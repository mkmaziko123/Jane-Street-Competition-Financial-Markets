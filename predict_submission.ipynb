{
 "cells": [
  {
   "cell_type": "code",
   "execution_count": null,
   "id": "1338a950",
   "metadata": {
    "vscode": {
     "languageId": "plaintext"
    }
   },
   "outputs": [],
   "source": [
    " submitted to Kaggle# for prediction\n",
    "\n",
    "import pandas as pd\n",
    "import joblib\n",
    "from kaggle.time_series import environment\n",
    "from sklearn.impute import SimpleImputer\n",
    "from sklearn.preprocessing import StandardScaler\n",
    "from sklearn.ensemble import GradientBoostingRegressor\n",
    "from sklearn.pipeline import Pipeline\n",
    "\n",
    "# Load trained model\n",
    "model = joblib.load('/kaggle/input/your-trained-model/model.pkl')\n",
    "\n",
    "\n",
    "env = environment.make_env()\n",
    "iter_test = env.iter_test()\n",
    "\n",
    "for (test_df, sample_prediction_df) in iter_test:\n",
    "    X_test = test_df.drop(columns=['timestamp', 'row_id'])\n",
    "\n",
    "    # Predict using the pipeline\n",
    "    y_pred = model.predict(X_test)\n",
    "\n",
    "    # Set the prediction for responder_6\n",
    "    sample_prediction_df['responder_6'] = y_pred\n",
    "    env.predict(sample_prediction_df)\n"
   ]
  }
 ],
 "metadata": {
  "language_info": {
   "name": "python"
  }
 },
 "nbformat": 4,
 "nbformat_minor": 5
}
